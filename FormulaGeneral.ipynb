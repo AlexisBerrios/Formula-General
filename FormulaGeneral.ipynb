{
  "nbformat": 4,
  "nbformat_minor": 0,
  "metadata": {
    "colab": {
      "name": "FormulaGeneral.ipynb",
      "provenance": []
    },
    "kernelspec": {
      "name": "python3",
      "display_name": "Python 3"
    },
    "language_info": {
      "name": "python"
    }
  },
  "cells": [
    {
      "cell_type": "code",
      "metadata": {
        "colab": {
          "base_uri": "https://localhost:8080/"
        },
        "id": "FnA8ia61l3tB",
        "outputId": "348896cc-bf0b-4c33-8cd1-9d5ebe8fb919"
      },
      "source": [
        "a=float(input('Escriba el valor de a:'))\n",
        "b=float(input('Escriba el valor de b:'))\n",
        "c=float(input('Escriba el valor de c:'))\n",
        "\n",
        "if a!=0:\n",
        "    x1=(-b+(((b**2)-(4*a*c))**0.5))/(2*a)\n",
        "    x2=(-b-(((b**2)-(4*a*c))**0.5))/(2*a)\n",
        "\n",
        "    print('el valor de x1 es: ',x1)\n",
        "    print('el valor de x2 es: ',x2)\n",
        "\n",
        "if a==0:\n",
        "    print('el valor de a debe ser mayor a 0, porque la división seria indeterminada')   \n"
      ],
      "execution_count": 63,
      "outputs": [
        {
          "output_type": "stream",
          "name": "stdout",
          "text": [
            "Escriba el valor de a:4\n",
            "Escriba el valor de b:3\n",
            "Escriba el valor de c:-22\n",
            "el valor de x1 es:  2.0\n",
            "el valor de x1 es:  -2.75\n"
          ]
        }
      ]
    },
    {
      "cell_type": "code",
      "metadata": {
        "id": "9WE75StnsObf"
      },
      "source": [
        ""
      ],
      "execution_count": null,
      "outputs": []
    }
  ]
}